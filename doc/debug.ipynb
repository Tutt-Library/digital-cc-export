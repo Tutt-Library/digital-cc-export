{
 "cells": [
  {
   "cell_type": "code",
   "execution_count": 4,
   "metadata": {},
   "outputs": [],
   "source": [
    "import lxml.etree as etree\n",
    "FEDORA = \"info:fedora/fedora-system:def/relations-external#\"\n",
    "FEDORA_MODEL = \"info:fedora/fedora-system:def/model#\"\n",
    "ISLANDORA = \"http://islandora.ca/ontology/relsext#\"\n",
    "etree.register_namespace(\"fedora\", str(FEDORA))\n",
    "etree.register_namespace(\"fedora-model\", str(FEDORA_MODEL))\n",
    "etree.register_namespace(\"islandora\", str(ISLANDORA))"
   ]
  },
  {
   "cell_type": "code",
   "execution_count": 6,
   "metadata": {},
   "outputs": [],
   "source": [
    "with open(\"../example/MODS_30286.xml\", 'rb') as fo:\n",
    "    mods_xml = etree.XML(fo.read())"
   ]
  },
  {
   "cell_type": "code",
   "execution_count": 20,
   "metadata": {},
   "outputs": [
    {
     "name": "stdout",
     "output_type": "stream",
     "text": [
      "mods:mods > mods:genre mods:mods > mods:genre\n",
      "mods:mods > mods:typeOfResource mods:mods > mods:typeOfResource\n",
      "mods:mods > mods:name[type=personal] > mods:namePart mods:mods > mods:name[type=personal] > mods:namePart\n",
      "mods:mods > mods:name[type=personal] > mods:role > mods:roleTerm[type=text] mods:mods > mods:name[type=personal] > mods:role > mods:roleTerm[type=text]\n",
      "mods:mods > mods:name[type=personal] > mods:namePart mods:mods > mods:name[type=personal] > mods:namePart0\n",
      "mods:mods > mods:name[type=personal] > mods:role > mods:roleTerm[type=text] mods:mods > mods:name[type=personal] > mods:role > mods:roleTerm[type=text]0\n",
      "mods:mods > mods:name[type=personal] > mods:namePart mods:mods > mods:name[type=personal] > mods:namePart1\n",
      "mods:mods > mods:name[type=personal] > mods:role > mods:roleTerm[type=text] mods:mods > mods:name[type=personal] > mods:role > mods:roleTerm[type=text]1\n",
      "mods:mods > mods:name[type=personal] > mods:namePart mods:mods > mods:name[type=personal] > mods:namePart2\n",
      "mods:mods > mods:name[type=personal] > mods:role > mods:roleTerm[type=text] mods:mods > mods:name[type=personal] > mods:role > mods:roleTerm[type=text]2\n",
      "mods:mods > mods:name[type=personal] > mods:namePart mods:mods > mods:name[type=personal] > mods:namePart3\n",
      "mods:mods > mods:name[type=personal] > mods:role > mods:roleTerm[type=text] mods:mods > mods:name[type=personal] > mods:role > mods:roleTerm[type=text]3\n",
      "mods:mods > mods:name[type=personal] > mods:namePart mods:mods > mods:name[type=personal] > mods:namePart4\n",
      "mods:mods > mods:name[type=personal] > mods:role > mods:roleTerm[type=text] mods:mods > mods:name[type=personal] > mods:role > mods:roleTerm[type=text]4\n",
      "mods:mods > mods:name[type=personal] > mods:namePart mods:mods > mods:name[type=personal] > mods:namePart5\n",
      "mods:mods > mods:name[type=personal] > mods:role > mods:roleTerm[type=text] mods:mods > mods:name[type=personal] > mods:role > mods:roleTerm[type=text]5\n",
      "mods:mods > mods:name[type=personal] > mods:namePart mods:mods > mods:name[type=personal] > mods:namePart6\n",
      "mods:mods > mods:name[type=personal] > mods:role > mods:roleTerm[type=text] mods:mods > mods:name[type=personal] > mods:role > mods:roleTerm[type=text]6\n",
      "mods:mods > mods:name[type=personal] > mods:namePart mods:mods > mods:name[type=personal] > mods:namePart7\n",
      "mods:mods > mods:name[type=personal] > mods:role > mods:roleTerm[type=text] mods:mods > mods:name[type=personal] > mods:role > mods:roleTerm[type=text]7\n",
      "mods:mods > mods:name[type=personal] > mods:namePart mods:mods > mods:name[type=personal] > mods:namePart8\n",
      "mods:mods > mods:name[type=personal] > mods:role > mods:roleTerm[type=text] mods:mods > mods:name[type=personal] > mods:role > mods:roleTerm[type=text]8\n",
      "mods:mods > mods:name[type=personal] > mods:namePart mods:mods > mods:name[type=personal] > mods:namePart9\n",
      "mods:mods > mods:name[type=personal] > mods:role > mods:roleTerm[type=text] mods:mods > mods:name[type=personal] > mods:role > mods:roleTerm[type=text]9\n",
      "mods:mods > mods:name[type=personal] > mods:namePart mods:mods > mods:name[type=personal] > mods:namePart10\n",
      "mods:mods > mods:name[type=personal] > mods:role > mods:roleTerm[type=text] mods:mods > mods:name[type=personal] > mods:role > mods:roleTerm[type=text]10\n",
      "mods:mods > mods:name[type=personal] > mods:namePart mods:mods > mods:name[type=personal] > mods:namePart11\n",
      "mods:mods > mods:name[type=personal] > mods:role > mods:roleTerm[type=text] mods:mods > mods:name[type=personal] > mods:role > mods:roleTerm[type=text]11\n",
      "mods:mods > mods:name[type=personal] > mods:namePart mods:mods > mods:name[type=personal] > mods:namePart12\n",
      "mods:mods > mods:name[type=personal] > mods:role > mods:roleTerm[type=text] mods:mods > mods:name[type=personal] > mods:role > mods:roleTerm[type=text]12\n",
      "mods:mods > mods:name[type=personal] > mods:namePart mods:mods > mods:name[type=personal] > mods:namePart13\n",
      "mods:mods > mods:name[type=personal] > mods:role > mods:roleTerm[type=text] mods:mods > mods:name[type=personal] > mods:role > mods:roleTerm[type=text]13\n",
      "mods:mods > mods:name[type=personal] > mods:namePart mods:mods > mods:name[type=personal] > mods:namePart14\n",
      "mods:mods > mods:name[type=personal] > mods:role > mods:roleTerm[type=text] mods:mods > mods:name[type=personal] > mods:role > mods:roleTerm[type=text]14\n",
      "mods:mods > mods:name[type=personal] > mods:namePart mods:mods > mods:name[type=personal] > mods:namePart15\n",
      "mods:mods > mods:name[type=personal] > mods:role > mods:roleTerm[type=text] mods:mods > mods:name[type=personal] > mods:role > mods:roleTerm[type=text]15\n",
      "mods:mods > mods:name[type=personal] > mods:namePart mods:mods > mods:name[type=personal] > mods:namePart16\n",
      "mods:mods > mods:name[type=personal] > mods:role > mods:roleTerm[type=text] mods:mods > mods:name[type=personal] > mods:role > mods:roleTerm[type=text]16\n",
      "mods:mods > mods:name[type=personal] > mods:namePart mods:mods > mods:name[type=personal] > mods:namePart17\n",
      "mods:mods > mods:name[type=personal] > mods:role > mods:roleTerm[type=text] mods:mods > mods:name[type=personal] > mods:role > mods:roleTerm[type=text]17\n",
      "mods:mods > mods:name[type=personal] > mods:namePart mods:mods > mods:name[type=personal] > mods:namePart18\n",
      "mods:mods > mods:name[type=personal] > mods:role > mods:roleTerm[type=text] mods:mods > mods:name[type=personal] > mods:role > mods:roleTerm[type=text]18\n",
      "mods:mods > mods:language mods:mods > mods:language\n",
      "mods:mods > mods:originInfo > mods:dateCreated mods:mods > mods:originInfo > mods:dateCreated\n",
      "mods:mods > mods:originInfo > mods:publisher mods:mods > mods:originInfo > mods:publisher\n",
      "mods:mods > mods:originInfo > mods:place > mods:placeTerm mods:mods > mods:originInfo > mods:place > mods:placeTerm\n",
      "mods:mods > mods:originInfo > mods:frequency mods:mods > mods:originInfo > mods:frequency\n",
      "mods:mods > mods:physicalDescription > mods:digitalOrigin mods:mods > mods:physicalDescription > mods:digitalOrigin\n",
      "mods:mods > mods:subject > mods:geographic mods:mods > mods:subject > mods:geographic\n",
      "mods:mods > mods:subject > mods:topic mods:mods > mods:subject > mods:topic\n",
      "mods:mods > mods:subject > mods:topic mods:mods > mods:subject > mods:topic0\n",
      "mods:mods > mods:subject > mods:topic mods:mods > mods:subject > mods:topic1\n",
      "mods:mods > mods:subject > mods:topic mods:mods > mods:subject > mods:topic2\n",
      "mods:mods > mods:subject > mods:topic mods:mods > mods:subject > mods:topic3\n",
      "mods:mods > mods:subject > mods:topic mods:mods > mods:subject > mods:topic4\n",
      "mods:mods > mods:subject > mods:topic mods:mods > mods:subject > mods:topic5\n",
      "mods:mods > mods:subject > mods:topic mods:mods > mods:subject > mods:topic6\n",
      "mods:mods > mods:subject > mods:topic mods:mods > mods:subject > mods:topic7\n",
      "mods:mods > mods:subject > mods:topic mods:mods > mods:subject > mods:topic8\n",
      "mods:mods > mods:titleInfo > mods:title mods:mods > mods:titleInfo > mods:title\n",
      "mods:mods > mods:identifer[type=local] mods:mods > mods:identifer[type=local]\n"
     ]
    }
   ],
   "source": [
    "mods_dict = {}\n",
    "for child in mods_xml.iter():\n",
    "    if child.text is None or len(child.text.strip()) < 1:\n",
    "        continue\n",
    "    column = ''\n",
    "    ancestors = [ancestor for ancestor in child.iterancestors()]\n",
    "    ancestors.reverse()\n",
    "    for ancestor in ancestors:\n",
    "        column += f\"{ancestor.tag}\".replace(r\"{http://www.loc.gov/mods/v3}\", \"mods:\")\n",
    "        if 'type' in ancestor.attrib:\n",
    "            column += f\"[type={ancestor.attrib.get('type')}]\"\n",
    "        column += \" > \" \n",
    "    column += f\"{child.tag}\".replace(r\"{http://www.loc.gov/mods/v3}\", \"mods:\")\n",
    "    if 'type' in child.attrib:\n",
    "        column += f\"[type={child.attrib.get('type')}]\"\n",
    "    print(column, end=\" \")\n",
    "    if column in mods_dict:\n",
    "        # Arbitary limit of 30 elements\n",
    "        for i in range(30): \n",
    "            next_column = f\"{column}{i}\"\n",
    "            if next_column in mods_dict:\n",
    "                continue\n",
    "            else:\n",
    "                column = next_column\n",
    "                break\n",
    "    mods_dict[column] = child.text\n",
    "    print(column)"
   ]
  },
  {
   "cell_type": "code",
   "execution_count": 24,
   "metadata": {},
   "outputs": [
    {
     "data": {
      "text/plain": [
       "'Student periodicals'"
      ]
     },
     "execution_count": 24,
     "metadata": {},
     "output_type": "execute_result"
    }
   ],
   "source": [
    "mods_dict['mods:mods > mods:subject > mods:topic1']"
   ]
  },
  {
   "cell_type": "code",
   "execution_count": null,
   "metadata": {},
   "outputs": [],
   "source": []
  }
 ],
 "metadata": {
  "kernelspec": {
   "display_name": "Python 3",
   "language": "python",
   "name": "python3"
  },
  "language_info": {
   "codemirror_mode": {
    "name": "ipython",
    "version": 3
   },
   "file_extension": ".py",
   "mimetype": "text/x-python",
   "name": "python",
   "nbconvert_exporter": "python",
   "pygments_lexer": "ipython3",
   "version": "3.8.1"
  }
 },
 "nbformat": 4,
 "nbformat_minor": 4
}
